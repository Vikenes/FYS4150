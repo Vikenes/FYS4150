{
 "cells": [
  {
   "cell_type": "code",
   "execution_count": 12,
   "metadata": {},
   "outputs": [
    {
     "name": "stdout",
     "output_type": "stream",
     "text": [
      "[[ 2  3  0  0  0  0]\n",
      " [ 4  3  1  0  0  0]\n",
      " [ 0  2  5  4  0  0]\n",
      " [ 0  0  5  7  8  0]\n",
      " [ 0  0  0  1  5  2]\n",
      " [ 0  0  0  0 -2  5]]\n",
      "[[                   0 -1229782938247303424 -9223372036854775808\n",
      "  -9223372036854775808 -9223372036854775808 -9223372036854775808]\n",
      " [                   1  1229782938247303424 -9223372036854775808\n",
      "  -9223372036854775808 -9223372036854775808 -9223372036854775808]\n",
      " [                   0  1844674407370955264 -9223372036854775808\n",
      "  -9223372036854775808 -9223372036854775808 -9223372036854775808]\n",
      " [                   1 -1844674407370955264 -9223372036854775808\n",
      "  -9223372036854775808 -9223372036854775808 -9223372036854775808]\n",
      " [-9223372036854775808 -9223372036854775808 -9223372036854775808\n",
      "  -9223372036854775808 -9223372036854775808 -9223372036854775808]\n",
      " [-9223372036854775808 -9223372036854775808 -9223372036854775808\n",
      "  -9223372036854775808 -9223372036854775808 -9223372036854775808]]\n"
     ]
    },
    {
     "name": "stderr",
     "output_type": "stream",
     "text": [
      "/tmp/ipykernel_8008/3551501493.py:16: RuntimeWarning: invalid value encountered in true_divide\n",
      "  tridag_work[-1,:] = tridag_work[-1,:]/tridag_work[-1,:]\n",
      "/tmp/ipykernel_8008/3551501493.py:19: RuntimeWarning: invalid value encountered in true_divide\n",
      "  tridag_work[-1-i,:] = (tridag_work[-1-i,:] - tridag_work[-i,:]*tridag_work[-1-i,:])/tridag_work[-1-i,:]\n"
     ]
    }
   ],
   "source": [
    "import numpy as np \n",
    "\n",
    "n = 6\n",
    "tridag = np.array([[2,3,0,0,0,0], [4,3,1,0,0,0], [0,2,5,4,0,0], [0,0,5,7,8,0],[0,0,0,1,5,2], [0,0,0,0,-2,5]])\n",
    "a = np.array([4,2,5,1,-2])\n",
    "b = np.array([2,3,4,7,5,5])\n",
    "c = np.array([3,1,4,8,2])\n",
    "\n",
    "tridag_work = tridag.copy()\n",
    "print(tridag_work)\n",
    "\n",
    "\n",
    "for i in range(1,n):\n",
    "    tridag_work[i,:] = a[i-1]/b[i-1]*tridag_work[i-1,:]\n",
    "\n",
    "tridag_work[-1,:] = tridag_work[-1,:]/tridag_work[-1,:]\n",
    "\n",
    "for i in range(1,n):\n",
    "    tridag_work[-1-i,:] = (tridag_work[-1-i,:] - tridag_work[-i,:]*tridag_work[-1-i,:])/tridag_work[-1-i,:]\n",
    "\n",
    "print(tridag_work)\n",
    "\n",
    "\n",
    "#hmm, something wrong."
   ]
  }
 ],
 "metadata": {
  "kernelspec": {
   "display_name": "Python 3.10.4 64-bit",
   "language": "python",
   "name": "python3"
  },
  "language_info": {
   "codemirror_mode": {
    "name": "ipython",
    "version": 3
   },
   "file_extension": ".py",
   "mimetype": "text/x-python",
   "name": "python",
   "nbconvert_exporter": "python",
   "pygments_lexer": "ipython3",
   "version": "3.10.4"
  },
  "orig_nbformat": 4,
  "vscode": {
   "interpreter": {
    "hash": "31f2aee4e71d21fbe5cf8b01ff0e069b9275f58929596ceb00d14d90e3e16cd6"
   }
  }
 },
 "nbformat": 4,
 "nbformat_minor": 2
}
